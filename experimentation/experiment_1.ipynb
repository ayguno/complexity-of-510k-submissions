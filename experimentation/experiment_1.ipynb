{
 "cells": [
  {
   "cell_type": "markdown",
   "metadata": {
    "toc": true
   },
   "source": [
    "<h1>Table of Contents<span class=\"tocSkip\"></span></h1>\n",
    "<div class=\"toc\"><ul class=\"toc-item\"><li><span><a href=\"#Naive-Bayes\" data-toc-modified-id=\"Naive-Bayes-1\"><span class=\"toc-item-num\">1&nbsp;&nbsp;</span>Naive Bayes</a></span><ul class=\"toc-item\"><li><span><a href=\"#Experiment-Pipeline\" data-toc-modified-id=\"Experiment-Pipeline-1.1\"><span class=\"toc-item-num\">1.1&nbsp;&nbsp;</span>Experiment Pipeline</a></span></li><li><span><a href=\"#Summary\" data-toc-modified-id=\"Summary-1.2\"><span class=\"toc-item-num\">1.2&nbsp;&nbsp;</span>Summary</a></span></li></ul></li><li><span><a href=\"#Elastic-Net\" data-toc-modified-id=\"Elastic-Net-2\"><span class=\"toc-item-num\">2&nbsp;&nbsp;</span>Elastic Net</a></span><ul class=\"toc-item\"><li><span><a href=\"#Experiment-pipeline\" data-toc-modified-id=\"Experiment-pipeline-2.1\"><span class=\"toc-item-num\">2.1&nbsp;&nbsp;</span>Experiment pipeline</a></span></li><li><span><a href=\"#Summary\" data-toc-modified-id=\"Summary-2.2\"><span class=\"toc-item-num\">2.2&nbsp;&nbsp;</span>Summary</a></span></li></ul></li><li><span><a href=\"#RandomForest\" data-toc-modified-id=\"RandomForest-3\"><span class=\"toc-item-num\">3&nbsp;&nbsp;</span>RandomForest</a></span><ul class=\"toc-item\"><li><span><a href=\"#Experiment-Pipeline\" data-toc-modified-id=\"Experiment-Pipeline-3.1\"><span class=\"toc-item-num\">3.1&nbsp;&nbsp;</span>Experiment Pipeline</a></span></li><li><span><a href=\"#Summary\" data-toc-modified-id=\"Summary-3.2\"><span class=\"toc-item-num\">3.2&nbsp;&nbsp;</span>Summary</a></span></li></ul></li></ul></div>"
   ]
  },
  {
   "cell_type": "markdown",
   "metadata": {},
   "source": [
    "In this experiment we will build a simple pipeline using thew training set along with the handfull of binary features engineered during the project initiation stage to train classifiers using:\n",
    "\n",
    "- Naive Bayes\n",
    "- Elastic Net\n",
    "- RandomForest\n",
    "- Light Gradient Boosting\n",
    "- Deep Neural Network\n",
    "\n",
    "We will monitor `matthews_corrcoef` when training the classifiers and then document `classification_report` for both training and validation sets."
   ]
  },
  {
   "cell_type": "markdown",
   "metadata": {},
   "source": [
    "## Naive Bayes\n",
    "\n",
    "### Experiment Pipeline"
   ]
  },
  {
   "cell_type": "code",
   "execution_count": 48,
   "metadata": {},
   "outputs": [
    {
     "name": "stderr",
     "output_type": "stream",
     "text": [
      "C:\\Users\\OZAN\\Anaconda3\\lib\\site-packages\\IPython\\core\\interactiveshell.py:2728: DtypeWarning: Columns (20) have mixed types. Specify dtype option on import or set low_memory=False.\n",
      "  interactivity=interactivity, compiler=compiler, result=result)\n",
      "C:\\Users\\OZAN\\Anaconda3\\lib\\site-packages\\ipykernel_launcher.py:29: SettingWithCopyWarning: \n",
      "A value is trying to be set on a copy of a slice from a DataFrame\n",
      "\n",
      "See the caveats in the documentation: http://pandas.pydata.org/pandas-docs/stable/indexing.html#indexing-view-versus-copy\n",
      "C:\\Users\\OZAN\\Anaconda3\\lib\\site-packages\\ipykernel_launcher.py:30: SettingWithCopyWarning: \n",
      "A value is trying to be set on a copy of a slice from a DataFrame\n",
      "\n",
      "See the caveats in the documentation: http://pandas.pydata.org/pandas-docs/stable/indexing.html#indexing-view-versus-copy\n"
     ]
    },
    {
     "name": "stdout",
     "output_type": "stream",
     "text": [
      "Fitting 5 folds for each of 2400 candidates, totalling 12000 fits\n"
     ]
    },
    {
     "name": "stderr",
     "output_type": "stream",
     "text": [
      "C:\\Users\\OZAN\\Anaconda3\\lib\\site-packages\\sklearn\\model_selection\\_search.py:925: UserWarning: One or more of the test scores are non-finite: [0.05671407 0.05386763        nan ... 0.08397096 0.09216756 0.033495  ]\n",
      "  category=UserWarning\n"
     ]
    },
    {
     "data": {
      "text/plain": [
       "GridSearchCV(cv=5,\n",
       "             estimator=Pipeline(steps=[('prepare_input',\n",
       "                                        FunctionTransformer(func=<function prepare_input at 0x0000017AD220E400>)),\n",
       "                                       ('add_poly_int', PolynomialFeatures()),\n",
       "                                       ('feature_selection',\n",
       "                                        SelectKBest(score_func=<function chi2 at 0x0000017ACE4B4598>)),\n",
       "                                       ('clf', BernoulliNB())]),\n",
       "             n_jobs=7,\n",
       "             param_grid={'add_poly_int__degree': [1, 2, 3],\n",
       "                         'clf__alpha': array([   1.        ,...\n",
       "        808.27272727,  818.36363636,  828.45454545,  838.54545455,\n",
       "        848.63636364,  858.72727273,  868.81818182,  878.90909091,\n",
       "        889.        ,  899.09090909,  909.18181818,  919.27272727,\n",
       "        929.36363636,  939.45454545,  949.54545455,  959.63636364,\n",
       "        969.72727273,  979.81818182,  989.90909091, 1000.        ]),\n",
       "                         'clf__fit_prior': [True, False],\n",
       "                         'feature_selection__k': ['all', 10, 20, 30]},\n",
       "             scoring=make_scorer(matthews_corrcoef), verbose=2)"
      ]
     },
     "execution_count": 48,
     "metadata": {},
     "output_type": "execute_result"
    }
   ],
   "source": [
    "from sklearn.naive_bayes import BernoulliNB # Note that all features we will use here are binary\n",
    "from sklearn.pipeline import Pipeline\n",
    "from sklearn.model_selection import GridSearchCV\n",
    "from sklearn.metrics import matthews_corrcoef,make_scorer, balanced_accuracy_score\n",
    "from sklearn.preprocessing import FunctionTransformer, PolynomialFeatures\n",
    "from sklearn.feature_selection import SelectKBest,chi2\n",
    "from sklearn.metrics import classification_report, confusion_matrix, ConfusionMatrixDisplay\n",
    "import pickle as pkl\n",
    "import numpy as np\n",
    "import json\n",
    "import pandas as pd\n",
    "import matplotlib.pyplot as plt\n",
    "\n",
    "\n",
    "# load the configuration file\n",
    "with open(\"config.json\",'rb') as f:\n",
    "    config = json.load(f)\n",
    "feature_store_dir = config['feature_store_dir']    \n",
    "\n",
    "# Load data sets, prepare x_train and y_train\n",
    "analytical_data = pd.read_csv(feature_store_dir + 'analytical_data.csv')\n",
    "train_knumber = pd.read_csv(feature_store_dir + 'train_KNUMBER.csv')\n",
    "dummy_features = pd.read_csv(feature_store_dir + \"features_dummy.csv\")\n",
    "\n",
    "x_train = pd.merge(train_knumber[['KNUMBER','DATASET']],\n",
    "    analytical_data[['KNUMBER','COMPLEXITY']], how='left', on = \"KNUMBER\")\n",
    "x_train = pd.merge(x_train,dummy_features, how = 'left', on='KNUMBER')\n",
    "# Encode target labels:\n",
    "# 0 = L, 1 = M, 2 = H\n",
    "y_train = x_train[['KNUMBER','COMPLEXITY']].copy()\n",
    "y_train.loc[:,'value'] = 0\n",
    "y_train.loc[:,'value'][y_train.loc[:,'COMPLEXITY'] == 'M'] = 1\n",
    "y_train.loc[:,'value'][y_train.loc[:,'COMPLEXITY'] == 'H'] = 2\n",
    "y_train = y_train.loc[:,'value'].values\n",
    "\n",
    "mcc = make_scorer(matthews_corrcoef)\n",
    "\n",
    "def prepare_input(train_set):\n",
    "    train_set = train_set.drop(['KNUMBER','DATASET', 'COMPLEXITY'],axis = 1)\n",
    "    return train_set\n",
    "\n",
    "clf_pipeline = Pipeline(steps=[\n",
    "    (\"prepare_input\",FunctionTransformer(prepare_input)),\n",
    "    (\"add_poly_int\", PolynomialFeatures()),\n",
    "    (\"feature_selection\",SelectKBest(chi2)),\n",
    "    (\"clf\",BernoulliNB())\n",
    "])\n",
    "\n",
    "param_grid = {\n",
    "                \"clf__alpha\":np.linspace(1,1000,100),\n",
    "                \"clf__fit_prior\":[True,False],\n",
    "                \"add_poly_int__degree\":[1,2,3],\n",
    "                \"feature_selection__k\":['all',10,20,30]\n",
    "             }\n",
    "\n",
    "clf_search = GridSearchCV(clf_pipeline,\n",
    "                          param_grid = param_grid,\n",
    "                          scoring = mcc,\n",
    "                          cv = 5,\n",
    "                          n_jobs=7,\n",
    "                          verbose=2\n",
    "                          )\n",
    "clf_search.fit(X = x_train,y = y_train)"
   ]
  },
  {
   "cell_type": "markdown",
   "metadata": {},
   "source": [
    "### Summary"
   ]
  },
  {
   "cell_type": "code",
   "execution_count": 83,
   "metadata": {},
   "outputs": [
    {
     "name": "stdout",
     "output_type": "stream",
     "text": [
      "Pipeline hyperparameters that performed the best:\n",
      "{'add_poly_int__degree': 1, 'clf__alpha': 515.6363636363636, 'clf__fit_prior': False, 'feature_selection__k': 'all'}\n",
      "\n",
      "Best cross-validated performance estimate (MCC): 0.1346\n",
      "\n",
      "MCC estimate (training set):  0.1357\n",
      "\n",
      "Balanced accuracy (training set): 0.3992\n",
      "\n",
      "Classification report (training set):\n",
      "\n",
      "              precision    recall  f1-score   support\n",
      "\n",
      "           0       0.46      0.25      0.32      6668\n",
      "           1       0.60      0.85      0.70     14307\n",
      "           2       0.35      0.10      0.16      3951\n",
      "\n",
      "    accuracy                           0.57     24926\n",
      "   macro avg       0.47      0.40      0.39     24926\n",
      "weighted avg       0.52      0.57      0.51     24926\n",
      "\n",
      "\n",
      "Confusion matrix (training set):\n",
      "\n",
      "[[ 1651  4828   189]\n",
      " [ 1624 12120   563]\n",
      " [  325  3220   406]]\n"
     ]
    },
    {
     "data": {
      "image/png": "[encoded data removed]",
      "text/plain": [
       "<Figure size 432x288 with 2 Axes>"
      ]
     },
     "metadata": {
      "needs_background": "light"
     },
     "output_type": "display_data"
    }
   ],
   "source": [
    "print('Pipeline hyperparameters that performed the best:')\n",
    "print(clf_search.best_params_)\n",
    "print(\"\")\n",
    "print(\"Best cross-validated performance estimate (MCC): \"+ str(np.round(clf_search.best_score_,4)))\n",
    "print(\"\")\n",
    "print(\"MCC estimate (training set): \", str(np.round(matthews_corrcoef(y_true = y_train, \n",
    "        y_pred = clf_search.predict(x_train)),4)))\n",
    "print(\"\")\n",
    "print(\"Balanced accuracy (training set): \"+ \n",
    "      str(np.round(balanced_accuracy_score(y_true = y_train, \n",
    "        y_pred = clf_search.predict(x_train)),4)))\n",
    "print(\"\")\n",
    "print('Classification report (training set):')\n",
    "print(\"\")\n",
    "print(classification_report(y_true = y_train, y_pred = clf_search.predict(x_train)))\n",
    "print(\"\")\n",
    "print(\"Confusion matrix (training set):\")\n",
    "print(\"\")\n",
    "print(confusion_matrix(y_true = y_train, y_pred = clf_search.predict(x_train)))\n",
    "di = ConfusionMatrixDisplay(confusion_matrix(y_true = y_train, y_pred = clf_search.predict(x_train)))\n",
    "di.plot()\n",
    "plt.show()\n",
    "# Save the trained GridSearchCV object\n",
    "with open(\"./models/experiment_1/naive_bayes.pkl\",\"wb\") as f:\n",
    "    pkl.dump(clf_search,f)"
   ]
  },
  {
   "cell_type": "markdown",
   "metadata": {},
   "source": [
    "## Elastic Net\n",
    "\n",
    "### Experiment pipeline"
   ]
  },
  {
   "cell_type": "code",
   "execution_count": 108,
   "metadata": {
    "scrolled": true
   },
   "outputs": [
    {
     "name": "stderr",
     "output_type": "stream",
     "text": [
      "C:\\Users\\OZAN\\Anaconda3\\lib\\site-packages\\IPython\\core\\interactiveshell.py:2728: DtypeWarning: Columns (20) have mixed types. Specify dtype option on import or set low_memory=False.\n",
      "  interactivity=interactivity, compiler=compiler, result=result)\n",
      "C:\\Users\\OZAN\\Anaconda3\\lib\\site-packages\\ipykernel_launcher.py:34: SettingWithCopyWarning: \n",
      "A value is trying to be set on a copy of a slice from a DataFrame\n",
      "\n",
      "See the caveats in the documentation: http://pandas.pydata.org/pandas-docs/stable/indexing.html#indexing-view-versus-copy\n",
      "C:\\Users\\OZAN\\Anaconda3\\lib\\site-packages\\ipykernel_launcher.py:35: SettingWithCopyWarning: \n",
      "A value is trying to be set on a copy of a slice from a DataFrame\n",
      "\n",
      "See the caveats in the documentation: http://pandas.pydata.org/pandas-docs/stable/indexing.html#indexing-view-versus-copy\n"
     ]
    },
    {
     "name": "stdout",
     "output_type": "stream",
     "text": [
      "Fitting 5 folds for each of 800 candidates, totalling 4000 fits\n"
     ]
    },
    {
     "name": "stderr",
     "output_type": "stream",
     "text": [
      "C:\\Users\\OZAN\\Anaconda3\\lib\\site-packages\\sklearn\\model_selection\\_search.py:925: UserWarning: One or more of the test scores are non-finite: [       nan        nan        nan        nan        nan        nan\n",
      "        nan        nan        nan        nan        nan        nan\n",
      "        nan        nan        nan        nan        nan        nan\n",
      "        nan        nan        nan        nan        nan        nan\n",
      "        nan        nan        nan        nan        nan        nan\n",
      "        nan        nan        nan        nan        nan        nan\n",
      "        nan        nan        nan        nan 0.0554313  0.0163434\n",
      " 0.0539997  0.0554313  0.04663286 0.0163434  0.04520126 0.04663286\n",
      " 0.04520126 0.0163434  0.04520126 0.04520126 0.04520126 0.0163434\n",
      " 0.04520126 0.04520126 0.04520126 0.0163434  0.04520126 0.04520126\n",
      " 0.04520126 0.0163434  0.04398132 0.04520126 0.04398132 0.0163434\n",
      " 0.04398132 0.04398132 0.04327846 0.0163434  0.04327846 0.04327846\n",
      " 0.03937162 0.0163434  0.03937162 0.03937162 0.03937162 0.0163434\n",
      " 0.03937162 0.03937162 0.05391037 0.0163434  0.0539997  0.05391037\n",
      " 0.05391037 0.0163434  0.0539997  0.05391037 0.0554313  0.0163434\n",
      " 0.0539997  0.0554313  0.04520126 0.0163434  0.04520126 0.04520126\n",
      " 0.04520126 0.0163434  0.04520126 0.04520126 0.04520126 0.0163434\n",
      " 0.04520126 0.04520126 0.04520126 0.0163434  0.04520126 0.04520126\n",
      " 0.04520126 0.0163434  0.04520126 0.04520126 0.04520126 0.0163434\n",
      " 0.04520126 0.04520126 0.04520126 0.0163434  0.04520126 0.04520126\n",
      " 0.05391037 0.0163434  0.05254603 0.05391037 0.05391037 0.0163434\n",
      " 0.0539997  0.05391037 0.05391037 0.0163434  0.0539997  0.05391037\n",
      " 0.05391037 0.0163434  0.0539997  0.05391037 0.0554313  0.0163434\n",
      " 0.0539997  0.0554313  0.0539997  0.0163434  0.0539997  0.0539997\n",
      " 0.04520126 0.0163434  0.04520126 0.04520126 0.04520126 0.0163434\n",
      " 0.04520126 0.04520126 0.04520126 0.0163434  0.04520126 0.04520126\n",
      " 0.04520126 0.0163434  0.04520126 0.04520126 0.05391037 0.0163434\n",
      " 0.05254603 0.05391037 0.05391037 0.0163434  0.05254603 0.05391037\n",
      " 0.05391037 0.0163434  0.05254603 0.05391037 0.05391037 0.0163434\n",
      " 0.05254603 0.05391037 0.05391037 0.0163434  0.0539997  0.05391037\n",
      " 0.05391037 0.0163434  0.0539997  0.05391037 0.0539997  0.0163434\n",
      " 0.0539997  0.0539997  0.0539997  0.0163434  0.0539997  0.0539997\n",
      " 0.04520126 0.0163434  0.04520126 0.04520126 0.04520126 0.0163434\n",
      " 0.04520126 0.04520126 0.05391037 0.0163434  0.05254603 0.05391037\n",
      " 0.05391037 0.0163434  0.05254603 0.05391037 0.05391037 0.0163434\n",
      " 0.05254603 0.05391037 0.05391037 0.0163434  0.05254603 0.05391037\n",
      " 0.05391037 0.0163434  0.05254603 0.05391037 0.05391037 0.0163434\n",
      " 0.05254603 0.05391037 0.05391037 0.0163434  0.05254603 0.05391037\n",
      " 0.05391037 0.0163434  0.0539997  0.05391037 0.0539997  0.0163434\n",
      " 0.0539997  0.0539997  0.0539997  0.0163434  0.0539997  0.0539997\n",
      " 0.05391037 0.0163434  0.05254603 0.05391037 0.05391037 0.0163434\n",
      " 0.05254603 0.05391037 0.05391037 0.0163434  0.05254603 0.05391037\n",
      " 0.05391037 0.0163434  0.05254603 0.05391037 0.05391037 0.0163434\n",
      " 0.05254603 0.05391037 0.05391037 0.0163434  0.05254603 0.05391037\n",
      " 0.05391037 0.0163434  0.05254603 0.05391037 0.05391037 0.0163434\n",
      " 0.05254603 0.05391037 0.05391037 0.0163434  0.05254603 0.05391037\n",
      " 0.0539997  0.0163434  0.0539997  0.05254603 0.05391037 0.0163434\n",
      " 0.05254603 0.05391037 0.05391037 0.0163434  0.05254603 0.05391037\n",
      " 0.05391037 0.0163434  0.05254603 0.05391037 0.05391037 0.0163434\n",
      " 0.05254603 0.05391037 0.05391037 0.0163434  0.05254603 0.05391037\n",
      " 0.05391037 0.0163434  0.05254603 0.05391037 0.05391037 0.0163434\n",
      " 0.05254603 0.05391037 0.05391037 0.0163434  0.05254603 0.05391037\n",
      " 0.05391037 0.0163434  0.05254603 0.05391037 0.05391037 0.0163434\n",
      " 0.05254603 0.05391037 0.05391037 0.0163434  0.05254603 0.05391037\n",
      " 0.05391037 0.0163434  0.05254603 0.05391037 0.05391037 0.0163434\n",
      " 0.05254603 0.05391037 0.05391037 0.0163434  0.05254603 0.05391037\n",
      " 0.05391037 0.0163434  0.05254603 0.05391037 0.05391037 0.0163434\n",
      " 0.05254603 0.05391037 0.05391037 0.0163434  0.05254603 0.05391037\n",
      " 0.05391037 0.0163434  0.05254603 0.05391037 0.05391037 0.0163434\n",
      " 0.05254603 0.05391037 0.05391037 0.0163434  0.05254603 0.05391037\n",
      " 0.05391037 0.0163434  0.05254603 0.05391037 0.05391037 0.0163434\n",
      " 0.05254603 0.05391037 0.05391037 0.0163434  0.05254603 0.05391037\n",
      " 0.05391037 0.0163434  0.05254603 0.05391037 0.05391037 0.0163434\n",
      " 0.05254603 0.05391037 0.05391037 0.0163434  0.05254603 0.05391037\n",
      " 0.05391037 0.0163434  0.05254603 0.05391037 0.05391037 0.0163434\n",
      " 0.05254603 0.05391037 0.05391037 0.0163434  0.05254603 0.05391037\n",
      " 0.05391037 0.0163434  0.05254603 0.05391037 0.05391037 0.0163434\n",
      " 0.05254603 0.05391037 0.05391037 0.0163434  0.05254603 0.05391037\n",
      " 0.05391037 0.0163434  0.05254603 0.05391037 0.05391037 0.0163434\n",
      " 0.05254603 0.05391037 0.05391037 0.0163434  0.05254603 0.05391037\n",
      " 0.05391037 0.0163434  0.05254603 0.05391037 0.05391037 0.0163434\n",
      " 0.05254603 0.05391037 0.05391037 0.0163434  0.05254603 0.05391037\n",
      " 0.05391037 0.0163434  0.05254603 0.05391037 0.05391037 0.0163434\n",
      " 0.05254603 0.05391037 0.05391037 0.0163434  0.05254603 0.05391037\n",
      " 0.05391037 0.0163434  0.05254603 0.05391037 0.05391037 0.0163434\n",
      " 0.05254603 0.05391037 0.05391037 0.0163434  0.05254603 0.05391037\n",
      " 0.05391037 0.0163434  0.05254603 0.05391037 0.05391037 0.0163434\n",
      " 0.05254603 0.05391037 0.05391037 0.0163434  0.05254603 0.05391037\n",
      " 0.05391037 0.0163434  0.05254603 0.05391037 0.05391037 0.0163434\n",
      " 0.05254603 0.05391037 0.05391037 0.0163434  0.05254603 0.05391037\n",
      " 0.05391037 0.0163434  0.05834261 0.05391037 0.05391037 0.0163434\n",
      " 0.05254603 0.05391037 0.05391037 0.0163434  0.05254603 0.05391037\n",
      " 0.05391037 0.0163434  0.05254603 0.05391037 0.05391037 0.0163434\n",
      " 0.05254603 0.05391037 0.05391037 0.0163434  0.05254603 0.05391037\n",
      " 0.05391037 0.0163434  0.05254603 0.05391037 0.05391037 0.0163434\n",
      " 0.05254603 0.05391037 0.05391037 0.0163434  0.05254603 0.05391037\n",
      " 0.05391037 0.0163434  0.05254603 0.05391037 0.05391037 0.0163434\n",
      " 0.05834261 0.05391037 0.05391037 0.0163434  0.05254603 0.05391037\n",
      " 0.05391037 0.0163434  0.05254603 0.05391037 0.05391037 0.0163434\n",
      " 0.05254603 0.05391037 0.05391037 0.0163434  0.05254603 0.05391037\n",
      " 0.05391037 0.0163434  0.05254603 0.05391037 0.05391037 0.0163434\n",
      " 0.05254603 0.05391037 0.05391037 0.0163434  0.05254603 0.05391037\n",
      " 0.05391037 0.0163434  0.05254603 0.05391037 0.05391037 0.0163434\n",
      " 0.05254603 0.05391037 0.05391037 0.0163434  0.05254603 0.05391037\n",
      " 0.05391037 0.0163434  0.05254603 0.05391037 0.05391037 0.0163434\n",
      " 0.05254603 0.05391037 0.05391037 0.0163434  0.05254603 0.05391037\n",
      " 0.05391037 0.0163434  0.05254603 0.05391037 0.05391037 0.0163434\n",
      " 0.05254603 0.05391037 0.05391037 0.0163434  0.05254603 0.05391037\n",
      " 0.05391037 0.0163434  0.05254603 0.05391037 0.05391037 0.0163434\n",
      " 0.05254603 0.05391037 0.05391037 0.0163434  0.05254603 0.05391037\n",
      " 0.05391037 0.0163434  0.05834261 0.05391037 0.05391037 0.0163434\n",
      " 0.05254603 0.05391037 0.05391037 0.0163434  0.05254603 0.05391037\n",
      " 0.05391037 0.0163434  0.05254603 0.05391037 0.05391037 0.0163434\n",
      " 0.05254603 0.05391037 0.05391037 0.0163434  0.05254603 0.05391037\n",
      " 0.05391037 0.0163434  0.05254603 0.05391037 0.05391037 0.0163434\n",
      " 0.05254603 0.05391037 0.05391037 0.0163434  0.05254603 0.05391037\n",
      " 0.05391037 0.0163434  0.05254603 0.05391037 0.05391037 0.0163434\n",
      " 0.05834261 0.05391037 0.05391037 0.0163434  0.05254603 0.05391037\n",
      " 0.05391037 0.0163434  0.05254603 0.05391037 0.05391037 0.0163434\n",
      " 0.05254603 0.05391037 0.05391037 0.0163434  0.05254603 0.05391037\n",
      " 0.05391037 0.0163434  0.05254603 0.05391037 0.05391037 0.0163434\n",
      " 0.05254603 0.05391037 0.05391037 0.0163434  0.05254603 0.05391037\n",
      " 0.05391037 0.0163434  0.05254603 0.05391037 0.05391037 0.0163434\n",
      " 0.05254603 0.05391037 0.05391037 0.0163434  0.05834261 0.05391037\n",
      " 0.05391037 0.0163434  0.05254603 0.05391037 0.05391037 0.0163434\n",
      " 0.05254603 0.05391037 0.05391037 0.0163434  0.05254603 0.05391037\n",
      " 0.05391037 0.0163434  0.05254603 0.05391037 0.05391037 0.0163434\n",
      " 0.05254603 0.05391037 0.05391037 0.0163434  0.05254603 0.05391037\n",
      " 0.05391037 0.0163434  0.05254603 0.05391037 0.05391037 0.0163434\n",
      " 0.05254603 0.05391037 0.05391037 0.0163434  0.05254603 0.05391037\n",
      " 0.05391037 0.0163434  0.05254603 0.05391037 0.05391037 0.0163434\n",
      " 0.05254603 0.05391037 0.05391037 0.0163434  0.05254603 0.05391037\n",
      " 0.05391037 0.0163434  0.05254603 0.05391037 0.05391037 0.0163434\n",
      " 0.05254603 0.05391037 0.05391037 0.0163434  0.05254603 0.05391037\n",
      " 0.05391037 0.0163434  0.05254603 0.05391037 0.05391037 0.0163434\n",
      " 0.05254603 0.05391037 0.05391037 0.0163434  0.05254603 0.05391037\n",
      " 0.05391037 0.0163434  0.05254603 0.05391037 0.05391037 0.0163434\n",
      " 0.05834261 0.05391037 0.05391037 0.0163434  0.05254603 0.05391037\n",
      " 0.05391037 0.0163434  0.05254603 0.05391037 0.05391037 0.0163434\n",
      " 0.05254603 0.05391037 0.05391037 0.0163434  0.05254603 0.05391037\n",
      " 0.05391037 0.0163434  0.05254603 0.05391037 0.05391037 0.0163434\n",
      " 0.05254603 0.05391037 0.05391037 0.0163434  0.05254603 0.05391037\n",
      " 0.05391037 0.0163434  0.05254603 0.05391037 0.05391037 0.0163434\n",
      " 0.05254603 0.05391037]\n",
      "  category=UserWarning\n"
     ]
    },
    {
     "name": "stdout",
     "output_type": "stream",
     "text": [
      "Time elapsed: 16.4333 minutes.\n"
     ]
    }
   ],
   "source": [
    "from sklearn.linear_model import LogisticRegression\n",
    "from sklearn.pipeline import Pipeline\n",
    "from sklearn.model_selection import GridSearchCV\n",
    "from sklearn.metrics import matthews_corrcoef,make_scorer, balanced_accuracy_score\n",
    "from sklearn.preprocessing import FunctionTransformer, PolynomialFeatures\n",
    "from sklearn.feature_selection import SelectKBest,chi2\n",
    "from sklearn.metrics import classification_report, confusion_matrix, ConfusionMatrixDisplay\n",
    "import pickle as pkl\n",
    "import numpy as np\n",
    "import json\n",
    "import pandas as pd\n",
    "import matplotlib.pyplot as plt\n",
    "from datetime import datetime \n",
    "\n",
    "start_time = datetime.now()\n",
    "\n",
    "# load the configuration file\n",
    "with open(\"config.json\",'rb') as f:\n",
    "    config = json.load(f)\n",
    "feature_store_dir = config['feature_store_dir']    \n",
    "\n",
    "# Load data sets, prepare x_train and y_train\n",
    "analytical_data = pd.read_csv(feature_store_dir + 'analytical_data.csv')\n",
    "train_knumber = pd.read_csv(feature_store_dir + 'train_KNUMBER.csv')\n",
    "dummy_features = pd.read_csv(feature_store_dir + \"features_dummy.csv\")\n",
    "\n",
    "x_train = pd.merge(train_knumber[['KNUMBER','DATASET']],\n",
    "    analytical_data[['KNUMBER','COMPLEXITY']], how='left', on = \"KNUMBER\")\n",
    "x_train = pd.merge(x_train,dummy_features, how = 'left', on='KNUMBER')\n",
    "# Encode target labels:\n",
    "# 0 = L, 1 = M, 2 = H\n",
    "y_train = x_train[['KNUMBER','COMPLEXITY']].copy()\n",
    "y_train.loc[:,'value'] = 0\n",
    "y_train.loc[:,'value'][y_train.loc[:,'COMPLEXITY'] == 'M'] = 1\n",
    "y_train.loc[:,'value'][y_train.loc[:,'COMPLEXITY'] == 'H'] = 2\n",
    "y_train = y_train.loc[:,'value'].values\n",
    "\n",
    "mcc = make_scorer(matthews_corrcoef)\n",
    "\n",
    "def prepare_input(train_set):\n",
    "    train_set = train_set.drop(['KNUMBER','DATASET', 'COMPLEXITY'],axis = 1)\n",
    "    return train_set\n",
    "\n",
    "clf_pipeline = Pipeline(steps=[\n",
    "    (\"prepare_input\",FunctionTransformer(prepare_input)),\n",
    "    (\"add_poly_int\", PolynomialFeatures()),\n",
    "    (\"feature_selection\",SelectKBest(chi2)),\n",
    "    (\"clf\",LogisticRegression(penalty = \"elasticnet\", solver='saga'))\n",
    "])\n",
    "\n",
    "param_grid = {\n",
    "                \"clf__C\":np.linspace(0,1,10).tolist() + np.linspace(1,100,10).tolist(),\n",
    "                \"clf__l1_ratio\":np.linspace(0,1,10),\n",
    "                \"add_poly_int__degree\":[2],\n",
    "                \"feature_selection__k\":['all',10,20,30]\n",
    "             }\n",
    "\n",
    "clf_search = GridSearchCV(clf_pipeline,\n",
    "                          param_grid = param_grid,\n",
    "                          scoring = mcc,\n",
    "                          cv = 5,\n",
    "                          n_jobs=7,\n",
    "                          verbose=7\n",
    "                          )\n",
    "clf_search.fit(X = x_train,y = y_train)\n",
    "\n",
    "end_time = datetime.now()\n",
    "\n",
    "print(\"Time elapsed: \"+ str(round((end_time - start_time).seconds/60,4)) + \" minutes.\")"
   ]
  },
  {
   "cell_type": "markdown",
   "metadata": {},
   "source": [
    "### Summary"
   ]
  },
  {
   "cell_type": "code",
   "execution_count": 109,
   "metadata": {},
   "outputs": [
    {
     "name": "stdout",
     "output_type": "stream",
     "text": [
      "Pipeline hyperparameters that performed the best:\n",
      "{'add_poly_int__degree': 2, 'clf__C': 23.0, 'clf__l1_ratio': 0.0, 'feature_selection__k': 20}\n",
      "\n",
      "Best cross-validated performance estimate (MCC): 0.0583\n",
      "\n",
      "MCC estimate (training set):  0.0927\n",
      "\n",
      "Balanced accuracy (training set): 0.3562\n",
      "\n",
      "Classification report (training set):\n",
      "\n",
      "              precision    recall  f1-score   support\n",
      "\n",
      "           0       0.50      0.11      0.18      6668\n",
      "           1       0.58      0.96      0.73     14307\n",
      "           2       0.00      0.00      0.00      3951\n",
      "\n",
      "    accuracy                           0.58     24926\n",
      "   macro avg       0.36      0.36      0.30     24926\n",
      "weighted avg       0.47      0.58      0.47     24926\n",
      "\n",
      "\n",
      "Confusion matrix (training set):\n",
      "\n",
      "[[  742  5926     0]\n",
      " [  612 13695     0]\n",
      " [  138  3813     0]]\n"
     ]
    },
    {
     "name": "stderr",
     "output_type": "stream",
     "text": [
      "C:\\Users\\OZAN\\Anaconda3\\lib\\site-packages\\sklearn\\metrics\\_classification.py:1248: UndefinedMetricWarning: Precision and F-score are ill-defined and being set to 0.0 in labels with no predicted samples. Use `zero_division` parameter to control this behavior.\n",
      "  _warn_prf(average, modifier, msg_start, len(result))\n",
      "C:\\Users\\OZAN\\Anaconda3\\lib\\site-packages\\sklearn\\metrics\\_classification.py:1248: UndefinedMetricWarning: Precision and F-score are ill-defined and being set to 0.0 in labels with no predicted samples. Use `zero_division` parameter to control this behavior.\n",
      "  _warn_prf(average, modifier, msg_start, len(result))\n",
      "C:\\Users\\OZAN\\Anaconda3\\lib\\site-packages\\sklearn\\metrics\\_classification.py:1248: UndefinedMetricWarning: Precision and F-score are ill-defined and being set to 0.0 in labels with no predicted samples. Use `zero_division` parameter to control this behavior.\n",
      "  _warn_prf(average, modifier, msg_start, len(result))\n"
     ]
    },
    {
     "data": {
      "image/png": "[encoded data removed]",
      "text/plain": [
       "<Figure size 432x288 with 2 Axes>"
      ]
     },
     "metadata": {
      "needs_background": "light"
     },
     "output_type": "display_data"
    }
   ],
   "source": [
    "print('Pipeline hyperparameters that performed the best:')\n",
    "print(clf_search.best_params_)\n",
    "print(\"\")\n",
    "print(\"Best cross-validated performance estimate (MCC): \"+ str(np.round(clf_search.best_score_,4)))\n",
    "print(\"\")\n",
    "print(\"MCC estimate (training set): \", str(np.round(matthews_corrcoef(y_true = y_train, \n",
    "        y_pred = clf_search.predict(x_train)),4)))\n",
    "print(\"\")\n",
    "print(\"Balanced accuracy (training set): \"+ \n",
    "      str(np.round(balanced_accuracy_score(y_true = y_train, \n",
    "        y_pred = clf_search.predict(x_train)),4)))\n",
    "print(\"\")\n",
    "print('Classification report (training set):')\n",
    "print(\"\")\n",
    "print(classification_report(y_true = y_train, y_pred = clf_search.predict(x_train)))\n",
    "print(\"\")\n",
    "print(\"Confusion matrix (training set):\")\n",
    "print(\"\")\n",
    "print(confusion_matrix(y_true = y_train, y_pred = clf_search.predict(x_train)))\n",
    "di = ConfusionMatrixDisplay(confusion_matrix(y_true = y_train, y_pred = clf_search.predict(x_train)))\n",
    "di.plot()\n",
    "plt.show()\n",
    "# Save the trained GridSearchCV object\n",
    "with open(\"./models/experiment_1/elastic_net.pkl\",\"wb\") as f:\n",
    "    pkl.dump(clf_search,f)"
   ]
  },
  {
   "cell_type": "markdown",
   "metadata": {},
   "source": [
    "## RandomForest\n",
    "\n",
    "### Experiment Pipeline"
   ]
  },
  {
   "cell_type": "code",
   "execution_count": 126,
   "metadata": {},
   "outputs": [
    {
     "name": "stderr",
     "output_type": "stream",
     "text": [
      "C:\\Users\\OZAN\\Anaconda3\\lib\\site-packages\\IPython\\core\\interactiveshell.py:2728: DtypeWarning: Columns (20) have mixed types. Specify dtype option on import or set low_memory=False.\n",
      "  interactivity=interactivity, compiler=compiler, result=result)\n",
      "C:\\Users\\OZAN\\Anaconda3\\lib\\site-packages\\ipykernel_launcher.py:34: SettingWithCopyWarning: \n",
      "A value is trying to be set on a copy of a slice from a DataFrame\n",
      "\n",
      "See the caveats in the documentation: http://pandas.pydata.org/pandas-docs/stable/indexing.html#indexing-view-versus-copy\n",
      "C:\\Users\\OZAN\\Anaconda3\\lib\\site-packages\\ipykernel_launcher.py:35: SettingWithCopyWarning: \n",
      "A value is trying to be set on a copy of a slice from a DataFrame\n",
      "\n",
      "See the caveats in the documentation: http://pandas.pydata.org/pandas-docs/stable/indexing.html#indexing-view-versus-copy\n"
     ]
    },
    {
     "name": "stdout",
     "output_type": "stream",
     "text": [
      "Fitting 5 folds for each of 150 candidates, totalling 750 fits\n"
     ]
    },
    {
     "name": "stderr",
     "output_type": "stream",
     "text": [
      "C:\\Users\\OZAN\\Anaconda3\\lib\\site-packages\\sklearn\\model_selection\\_search.py:925: UserWarning: One or more of the test scores are non-finite: [0.11536043 0.11486569        nan        nan        nan 0.08777692\n",
      " 0.08777692        nan        nan        nan 0.07880594 0.07880594\n",
      "        nan        nan        nan 0.07880594 0.07880594        nan\n",
      "        nan        nan 0.07880594 0.07880594        nan        nan\n",
      "        nan 0.11536043 0.11486569        nan        nan        nan\n",
      " 0.08777692 0.08777692        nan        nan        nan 0.07880594\n",
      " 0.07880594        nan        nan        nan 0.07880594 0.07880594\n",
      "        nan        nan        nan 0.07880594 0.07880594        nan\n",
      "        nan        nan 0.11536043 0.09147924 0.11486569 0.11536043\n",
      " 0.11536043 0.08777692 0.07908109 0.08777692 0.08777692 0.08777692\n",
      " 0.07880594 0.07880594 0.07880594 0.07880594 0.07880594 0.07880594\n",
      " 0.07880594 0.07880594 0.07880594 0.07880594 0.07880594 0.07880594\n",
      " 0.07880594 0.07880594 0.07880594 0.11536043 0.09147924 0.11486569\n",
      " 0.11536043 0.11536043 0.08777692 0.07908109 0.08777692 0.08777692\n",
      " 0.08777692 0.07880594 0.07880594 0.07880594 0.07880594 0.07880594\n",
      " 0.07880594 0.07880594 0.07880594 0.07880594 0.07880594 0.07880594\n",
      " 0.07880594 0.07880594 0.07880594 0.07880594 0.11536043 0.08863171\n",
      " 0.09616295 0.11223913 0.11536043 0.08777692 0.07639285 0.08162729\n",
      " 0.08777692 0.08777692 0.07880594 0.07880594 0.07880594 0.07880594\n",
      " 0.07880594 0.07880594 0.07880594 0.07880594 0.07880594 0.07880594\n",
      " 0.07880594 0.07880594 0.07880594 0.07880594 0.07880594 0.11536043\n",
      " 0.08863171 0.09616295 0.11223913 0.11536043 0.08777692 0.07639285\n",
      " 0.08162729 0.08777692 0.08777692 0.07880594 0.07880594 0.07880594\n",
      " 0.07880594 0.07880594 0.07880594 0.07880594 0.07880594 0.07880594\n",
      " 0.07880594 0.07880594 0.07880594 0.07880594 0.07880594 0.07880594]\n",
      "  category=UserWarning\n"
     ]
    },
    {
     "name": "stdout",
     "output_type": "stream",
     "text": [
      "Time elapsed: 3.4833 minutes.\n"
     ]
    }
   ],
   "source": [
    "from sklearn.ensemble import RandomForestClassifier\n",
    "from sklearn.pipeline import Pipeline\n",
    "from sklearn.model_selection import GridSearchCV\n",
    "from sklearn.metrics import matthews_corrcoef,make_scorer, balanced_accuracy_score\n",
    "from sklearn.preprocessing import FunctionTransformer, PolynomialFeatures\n",
    "from sklearn.feature_selection import SelectKBest,chi2\n",
    "from sklearn.metrics import classification_report, confusion_matrix, ConfusionMatrixDisplay\n",
    "import pickle as pkl\n",
    "import numpy as np\n",
    "import json\n",
    "import pandas as pd\n",
    "import matplotlib.pyplot as plt\n",
    "from datetime import datetime \n",
    "\n",
    "start_time = datetime.now()\n",
    "\n",
    "# load the configuration file\n",
    "with open(\"config.json\",'rb') as f:\n",
    "    config = json.load(f)\n",
    "feature_store_dir = config['feature_store_dir']    \n",
    "\n",
    "# Load data sets, prepare x_train and y_train\n",
    "analytical_data = pd.read_csv(feature_store_dir + 'analytical_data.csv')\n",
    "train_knumber = pd.read_csv(feature_store_dir + 'train_KNUMBER.csv')\n",
    "dummy_features = pd.read_csv(feature_store_dir + \"features_dummy.csv\")\n",
    "\n",
    "x_train = pd.merge(train_knumber[['KNUMBER','DATASET']],\n",
    "    analytical_data[['KNUMBER','COMPLEXITY']], how='left', on = \"KNUMBER\")\n",
    "x_train = pd.merge(x_train,dummy_features, how = 'left', on='KNUMBER')\n",
    "# Encode target labels:\n",
    "# 0 = L, 1 = M, 2 = H\n",
    "y_train = x_train[['KNUMBER','COMPLEXITY']].copy()\n",
    "y_train.loc[:,'value'] = 0\n",
    "y_train.loc[:,'value'][y_train.loc[:,'COMPLEXITY'] == 'M'] = 1\n",
    "y_train.loc[:,'value'][y_train.loc[:,'COMPLEXITY'] == 'H'] = 2\n",
    "y_train = y_train.loc[:,'value'].values\n",
    "\n",
    "mcc = make_scorer(matthews_corrcoef)\n",
    "\n",
    "def prepare_input(train_set):\n",
    "    train_set = train_set.drop(['KNUMBER','DATASET', 'COMPLEXITY'],axis = 1)\n",
    "    return train_set\n",
    "\n",
    "clf_pipeline = Pipeline(steps=[\n",
    "    (\"prepare_input\",FunctionTransformer(prepare_input)),\n",
    "    (\"add_poly_int\", PolynomialFeatures()),\n",
    "    (\"feature_selection\",SelectKBest(chi2)),\n",
    "    (\"clf\",RandomForestClassifier(n_estimators = 300,random_state = 123))\n",
    "])\n",
    "\n",
    "param_grid = {\n",
    "                \"clf__min_samples_leaf\":[100,250,500,750,1000],\n",
    "                \"clf__class_weight\":['balanced','balanced_subsample'],\n",
    "                \"add_poly_int__degree\":[1,2,3],\n",
    "                \"feature_selection__k\":['all',10,20,30,50]\n",
    "             }\n",
    "\n",
    "clf_search = GridSearchCV(clf_pipeline,\n",
    "                          param_grid = param_grid,\n",
    "                          scoring = mcc,\n",
    "                          cv = 5,\n",
    "                          n_jobs=7,\n",
    "                          verbose=7\n",
    "                          )\n",
    "clf_search.fit(X = x_train,y = y_train)\n",
    "\n",
    "end_time = datetime.now()\n",
    "\n",
    "print(\"Time elapsed: \"+ str(round((end_time - start_time).seconds/60,4)) + \" minutes.\")"
   ]
  },
  {
   "cell_type": "markdown",
   "metadata": {},
   "source": [
    "### Summary"
   ]
  },
  {
   "cell_type": "code",
   "execution_count": 127,
   "metadata": {},
   "outputs": [
    {
     "name": "stdout",
     "output_type": "stream",
     "text": [
      "Pipeline hyperparameters that performed the best:\n",
      "{'add_poly_int__degree': 1, 'clf__class_weight': 'balanced', 'clf__min_samples_leaf': 100, 'feature_selection__k': 'all'}\n",
      "\n",
      "Best cross-validated performance estimate (MCC): 0.1154\n",
      "\n",
      "MCC estimate (training set):  0.1237\n",
      "\n",
      "Balanced accuracy (training set): 0.4043\n",
      "\n",
      "Classification report (training set):\n",
      "\n",
      "              precision    recall  f1-score   support\n",
      "\n",
      "           0       0.45      0.24      0.31      6668\n",
      "           1       0.60      0.80      0.69     14307\n",
      "           2       0.31      0.17      0.22      3951\n",
      "\n",
      "    accuracy                           0.55     24926\n",
      "   macro avg       0.45      0.40      0.41     24926\n",
      "weighted avg       0.51      0.55      0.51     24926\n",
      "\n",
      "\n",
      "Confusion matrix (training set):\n",
      "\n",
      "[[ 1574  4796   298]\n",
      " [ 1593 11505  1209]\n",
      " [  323  2946   682]]\n"
     ]
    },
    {
     "data": {
      "image/png": "[encoded data removed]",
      "text/plain": [
       "<Figure size 432x288 with 2 Axes>"
      ]
     },
     "metadata": {
      "needs_background": "light"
     },
     "output_type": "display_data"
    }
   ],
   "source": [
    "print('Pipeline hyperparameters that performed the best:')\n",
    "print(clf_search.best_params_)\n",
    "print(\"\")\n",
    "print(\"Best cross-validated performance estimate (MCC): \"+ str(np.round(clf_search.best_score_,4)))\n",
    "print(\"\")\n",
    "print(\"MCC estimate (training set): \", str(np.round(matthews_corrcoef(y_true = y_train, \n",
    "        y_pred = clf_search.predict(x_train)),4)))\n",
    "print(\"\")\n",
    "print(\"Balanced accuracy (training set): \"+ \n",
    "      str(np.round(balanced_accuracy_score(y_true = y_train, \n",
    "        y_pred = clf_search.predict(x_train)),4)))\n",
    "print(\"\")\n",
    "print('Classification report (training set):')\n",
    "print(\"\")\n",
    "print(classification_report(y_true = y_train, y_pred = clf_search.predict(x_train)))\n",
    "print(\"\")\n",
    "print(\"Confusion matrix (training set):\")\n",
    "print(\"\")\n",
    "print(confusion_matrix(y_true = y_train, y_pred = clf_search.predict(x_train)))\n",
    "di = ConfusionMatrixDisplay(confusion_matrix(y_true = y_train, y_pred = clf_search.predict(x_train)))\n",
    "di.plot()\n",
    "plt.show()\n",
    "# Save the trained GridSearchCV object\n",
    "with open(\"./models/experiment_1/randomForest.pkl\",\"wb\") as f:\n",
    "    pkl.dump(clf_search,f)"
   ]
  }
 ],
 "metadata": {
  "kernelspec": {
   "display_name": "Python 3",
   "language": "python",
   "name": "python3"
  },
  "language_info": {
   "codemirror_mode": {
    "name": "ipython",
    "version": 3
   },
   "file_extension": ".py",
   "mimetype": "text/x-python",
   "name": "python",
   "nbconvert_exporter": "python",
   "pygments_lexer": "ipython3",
   "version": "3.6.4"
  },
  "toc": {
   "base_numbering": 1,
   "nav_menu": {},
   "number_sections": true,
   "sideBar": true,
   "skip_h1_title": false,
   "title_cell": "Table of Contents",
   "title_sidebar": "Contents",
   "toc_cell": true,
   "toc_position": {
    "height": "calc(100% - 180px)",
    "left": "10px",
    "top": "150px",
    "width": "324px"
   },
   "toc_section_display": true,
   "toc_window_display": true
  },
  "varInspector": {
   "cols": {
    "lenName": 16,
    "lenType": 16,
    "lenVar": 40
   },
   "kernels_config": {
    "python": {
     "delete_cmd_postfix": "",
     "delete_cmd_prefix": "del ",
     "library": "var_list.py",
     "varRefreshCmd": "print(var_dic_list())"
    },
    "r": {
     "delete_cmd_postfix": ") ",
     "delete_cmd_prefix": "rm(",
     "library": "var_list.r",
     "varRefreshCmd": "cat(var_dic_list()) "
    }
   },
   "types_to_exclude": [
    "module",
    "function",
    "builtin_function_or_method",
    "instance",
    "_Feature"
   ],
   "window_display": false
  }
 },
 "nbformat": 4,
 "nbformat_minor": 2
}

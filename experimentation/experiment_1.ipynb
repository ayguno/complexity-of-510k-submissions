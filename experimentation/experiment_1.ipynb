{
 "cells": [
  {
   "cell_type": "markdown",
   "metadata": {
    "toc": true
   },
   "source": [
    "<h1>Table of Contents<span class=\"tocSkip\"></span></h1>\n",
    "<div class=\"toc\"><ul class=\"toc-item\"><li><span><a href=\"#Naive-Bayes\" data-toc-modified-id=\"Naive-Bayes-1\"><span class=\"toc-item-num\">1&nbsp;&nbsp;</span>Naive Bayes</a></span></li></ul></div>"
   ]
  },
  {
   "cell_type": "markdown",
   "metadata": {},
   "source": [
    "In this experiment we will build a simple pipeline using thew training set along with the handfull of binary features engineered during the project initiation stage to train classifiers using:\n",
    "\n",
    "- Naive Bayes\n",
    "- Elastic Net\n",
    "- Light Gradient Boosting\n",
    "- Deep Neural Network\n",
    "\n",
    "We will monitor `matthews_corrcoef` when training the classifiers and then document `classification_report` for both training and validation sets."
   ]
  },
  {
   "cell_type": "markdown",
   "metadata": {},
   "source": [
    "## Naive Bayes"
   ]
  },
  {
   "cell_type": "code",
   "execution_count": null,
   "metadata": {},
   "outputs": [
    {
     "name": "stderr",
     "output_type": "stream",
     "text": [
      "C:\\Users\\OZAN\\Anaconda3\\lib\\site-packages\\IPython\\core\\interactiveshell.py:2728: DtypeWarning: Columns (20) have mixed types. Specify dtype option on import or set low_memory=False.\n",
      "  interactivity=interactivity, compiler=compiler, result=result)\n",
      "C:\\Users\\OZAN\\Anaconda3\\lib\\site-packages\\ipykernel_launcher.py:29: SettingWithCopyWarning: \n",
      "A value is trying to be set on a copy of a slice from a DataFrame\n",
      "\n",
      "See the caveats in the documentation: http://pandas.pydata.org/pandas-docs/stable/indexing.html#indexing-view-versus-copy\n",
      "C:\\Users\\OZAN\\Anaconda3\\lib\\site-packages\\ipykernel_launcher.py:30: SettingWithCopyWarning: \n",
      "A value is trying to be set on a copy of a slice from a DataFrame\n",
      "\n",
      "See the caveats in the documentation: http://pandas.pydata.org/pandas-docs/stable/indexing.html#indexing-view-versus-copy\n"
     ]
    },
    {
     "name": "stdout",
     "output_type": "stream",
     "text": [
      "Fitting 5 folds for each of 2400 candidates, totalling 12000 fits\n"
     ]
    }
   ],
   "source": [
    "from sklearn.naive_bayes import BernoulliNB # Note that all features we will use here are binary\n",
    "from sklearn.pipeline import Pipeline\n",
    "from sklearn.model_selection import GridSearchCV\n",
    "from sklearn.metrics import matthews_corrcoef,make_scorer, balanced_accuracy_score\n",
    "from sklearn.preprocessing import FunctionTransformer, PolynomialFeatures\n",
    "from sklearn.feature_selection import SelectKBest,chi2\n",
    "\n",
    "import numpy as np\n",
    "import json\n",
    "import pandas as pd\n",
    "\n",
    "# load the configuration file\n",
    "with open(\"config.json\",'rb') as f:\n",
    "    config = json.load(f)\n",
    "feature_store_dir = config['feature_store_dir']    \n",
    "\n",
    "# Load data sets, prepare x_train and y_train\n",
    "analytical_data = pd.read_csv(feature_store_dir + 'analytical_data.csv')\n",
    "train_knumber = pd.read_csv(feature_store_dir + 'train_KNUMBER.csv')\n",
    "dummy_features = pd.read_csv(feature_store_dir + \"features_dummy.csv\")\n",
    "\n",
    "x_train = pd.merge(train_knumber[['KNUMBER','DATASET']],\n",
    "    analytical_data[['KNUMBER','COMPLEXITY']], how='left', on = \"KNUMBER\")\n",
    "x_train = pd.merge(x_train,dummy_features, how = 'left', on='KNUMBER')\n",
    "# Encode target labels:\n",
    "# 0 = L, 1 = M, 2 = H\n",
    "y_train = x_train[['KNUMBER','COMPLEXITY']].copy()\n",
    "y_train.loc[:,'value'] = 0\n",
    "y_train.loc[:,'value'][y_train.loc[:,'COMPLEXITY'] == 'M'] = 1\n",
    "y_train.loc[:,'value'][y_train.loc[:,'COMPLEXITY'] == 'H'] = 2\n",
    "y_train = y_train.loc[:,'value'].values\n",
    "\n",
    "mcc = make_scorer(matthews_corrcoef)\n",
    "\n",
    "def prepare_input(train_set):\n",
    "    train_set = train_set.drop(['KNUMBER','DATASET', 'COMPLEXITY'],axis = 1)\n",
    "    return train_set\n",
    "\n",
    "clf_pipeline = Pipeline(steps=[\n",
    "    (\"prepare_input\",FunctionTransformer(prepare_input)),\n",
    "    (\"add_poly_int\", PolynomialFeatures()),\n",
    "    (\"feature_selection\",SelectKBest(chi2)),\n",
    "    (\"clf\",BernoulliNB())\n",
    "])\n",
    "\n",
    "param_grid = {\n",
    "                \"clf__alpha\":np.linspace(1,1000,100),\n",
    "                \"clf__fit_prior\":[True,False],\n",
    "                \"add_poly_int__degree\":[1,2,3],\n",
    "                \"feature_selection__k\":['all',10,20,30]\n",
    "             }\n",
    "\n",
    "clf_search = GridSearchCV(clf_pipeline,\n",
    "                          param_grid = param_grid,\n",
    "                          scoring = mcc,\n",
    "                          cv = 5,\n",
    "                          n_jobs=7,\n",
    "                          verbose=2\n",
    "                          )\n",
    "clf_search.fit(X = x_train,y = y_train)"
   ]
  },
  {
   "cell_type": "code",
   "execution_count": 45,
   "metadata": {},
   "outputs": [
    {
     "data": {
      "text/plain": [
       "array([0, 1, 2], dtype=int64)"
      ]
     },
     "execution_count": 45,
     "metadata": {},
     "output_type": "execute_result"
    }
   ],
   "source": [
    "clf_search.best_estimator_.classes_"
   ]
  },
  {
   "cell_type": "code",
   "execution_count": 43,
   "metadata": {},
   "outputs": [
    {
     "name": "stdout",
     "output_type": "stream",
     "text": [
      "              precision    recall  f1-score   support\n",
      "\n",
      "           0       0.46      0.25      0.32      6668\n",
      "           1       0.60      0.85      0.70     14307\n",
      "           2       0.35      0.10      0.16      3951\n",
      "\n",
      "    accuracy                           0.57     24926\n",
      "   macro avg       0.47      0.40      0.39     24926\n",
      "weighted avg       0.52      0.57      0.51     24926\n",
      "\n",
      "[[ 1651  4828   189]\n",
      " [ 1624 12120   563]\n",
      " [  325  3220   406]]\n"
     ]
    }
   ],
   "source": [
    "from sklearn.metrics import classification_report, confusion_matrix\n",
    "print(classification_report(y_true = y_train, y_pred = clf_search.predict(x_train)))\n",
    "print(confusion_matrix(y_true = y_train, y_pred = clf_search.predict(x_train)))\n",
    "\n"
   ]
  },
  {
   "cell_type": "code",
   "execution_count": 44,
   "metadata": {},
   "outputs": [
    {
     "data": {
      "text/plain": [
       "0.39916567995876057"
      ]
     },
     "execution_count": 44,
     "metadata": {},
     "output_type": "execute_result"
    }
   ],
   "source": [
    "balanced_accuracy_score(y_true = y_train, y_pred = clf_search.predict(x_train))"
   ]
  },
  {
   "cell_type": "code",
   "execution_count": 61,
   "metadata": {},
   "outputs": [
    {
     "data": {
      "text/html": [
       "<div>\n",
       "<style scoped>\n",
       "    .dataframe tbody tr th:only-of-type {\n",
       "        vertical-align: middle;\n",
       "    }\n",
       "\n",
       "    .dataframe tbody tr th {\n",
       "        vertical-align: top;\n",
       "    }\n",
       "\n",
       "    .dataframe thead th {\n",
       "        text-align: right;\n",
       "    }\n",
       "</style>\n",
       "<table border=\"1\" class=\"dataframe\">\n",
       "  <thead>\n",
       "    <tr style=\"text-align: right;\">\n",
       "      <th></th>\n",
       "      <th>KNUMBER</th>\n",
       "      <th>DATASET</th>\n",
       "      <th>COMPLEXITY</th>\n",
       "      <th>PRODUCTCODE_IYE_x</th>\n",
       "      <th>PRODUCTCODE_IYN_x</th>\n",
       "      <th>PRODUCTCODE_JJX_x</th>\n",
       "      <th>PRODUCTCODE_LYZ_x</th>\n",
       "      <th>PRODUCTCODE_NBW_x</th>\n",
       "      <th>CLASSADVISECOMM_AN_x</th>\n",
       "      <th>CLASSADVISECOMM_HE_x</th>\n",
       "      <th>...</th>\n",
       "      <th>PRODUCTCODE_IYN_y</th>\n",
       "      <th>PRODUCTCODE_JJX_y</th>\n",
       "      <th>PRODUCTCODE_LYZ_y</th>\n",
       "      <th>PRODUCTCODE_NBW_y</th>\n",
       "      <th>CLASSADVISECOMM_AN_y</th>\n",
       "      <th>CLASSADVISECOMM_HE_y</th>\n",
       "      <th>CLASSADVISECOMM_IM_y</th>\n",
       "      <th>CLASSADVISECOMM_MI_y</th>\n",
       "      <th>CLASSADVISECOMM_RA_y</th>\n",
       "      <th>CLASSADVISECOMM_TX_y</th>\n",
       "    </tr>\n",
       "  </thead>\n",
       "  <tbody>\n",
       "    <tr>\n",
       "      <th>0</th>\n",
       "      <td>K033484</td>\n",
       "      <td>train</td>\n",
       "      <td>H</td>\n",
       "      <td>0</td>\n",
       "      <td>0</td>\n",
       "      <td>0</td>\n",
       "      <td>0</td>\n",
       "      <td>0</td>\n",
       "      <td>0</td>\n",
       "      <td>0</td>\n",
       "      <td>...</td>\n",
       "      <td>0</td>\n",
       "      <td>0</td>\n",
       "      <td>0</td>\n",
       "      <td>0</td>\n",
       "      <td>0</td>\n",
       "      <td>0</td>\n",
       "      <td>0</td>\n",
       "      <td>0</td>\n",
       "      <td>0</td>\n",
       "      <td>0</td>\n",
       "    </tr>\n",
       "    <tr>\n",
       "      <th>1</th>\n",
       "      <td>K043617</td>\n",
       "      <td>train</td>\n",
       "      <td>L</td>\n",
       "      <td>0</td>\n",
       "      <td>0</td>\n",
       "      <td>0</td>\n",
       "      <td>0</td>\n",
       "      <td>0</td>\n",
       "      <td>0</td>\n",
       "      <td>0</td>\n",
       "      <td>...</td>\n",
       "      <td>0</td>\n",
       "      <td>0</td>\n",
       "      <td>0</td>\n",
       "      <td>0</td>\n",
       "      <td>0</td>\n",
       "      <td>0</td>\n",
       "      <td>0</td>\n",
       "      <td>0</td>\n",
       "      <td>1</td>\n",
       "      <td>0</td>\n",
       "    </tr>\n",
       "    <tr>\n",
       "      <th>2</th>\n",
       "      <td>K053310</td>\n",
       "      <td>train</td>\n",
       "      <td>H</td>\n",
       "      <td>0</td>\n",
       "      <td>0</td>\n",
       "      <td>0</td>\n",
       "      <td>0</td>\n",
       "      <td>0</td>\n",
       "      <td>0</td>\n",
       "      <td>0</td>\n",
       "      <td>...</td>\n",
       "      <td>0</td>\n",
       "      <td>0</td>\n",
       "      <td>0</td>\n",
       "      <td>0</td>\n",
       "      <td>0</td>\n",
       "      <td>0</td>\n",
       "      <td>0</td>\n",
       "      <td>0</td>\n",
       "      <td>0</td>\n",
       "      <td>0</td>\n",
       "    </tr>\n",
       "    <tr>\n",
       "      <th>3</th>\n",
       "      <td>K053527</td>\n",
       "      <td>train</td>\n",
       "      <td>H</td>\n",
       "      <td>0</td>\n",
       "      <td>0</td>\n",
       "      <td>0</td>\n",
       "      <td>0</td>\n",
       "      <td>0</td>\n",
       "      <td>0</td>\n",
       "      <td>0</td>\n",
       "      <td>...</td>\n",
       "      <td>0</td>\n",
       "      <td>0</td>\n",
       "      <td>0</td>\n",
       "      <td>0</td>\n",
       "      <td>0</td>\n",
       "      <td>0</td>\n",
       "      <td>0</td>\n",
       "      <td>0</td>\n",
       "      <td>0</td>\n",
       "      <td>0</td>\n",
       "    </tr>\n",
       "    <tr>\n",
       "      <th>4</th>\n",
       "      <td>K060387</td>\n",
       "      <td>train</td>\n",
       "      <td>H</td>\n",
       "      <td>0</td>\n",
       "      <td>0</td>\n",
       "      <td>0</td>\n",
       "      <td>0</td>\n",
       "      <td>0</td>\n",
       "      <td>0</td>\n",
       "      <td>0</td>\n",
       "      <td>...</td>\n",
       "      <td>0</td>\n",
       "      <td>0</td>\n",
       "      <td>0</td>\n",
       "      <td>0</td>\n",
       "      <td>0</td>\n",
       "      <td>0</td>\n",
       "      <td>0</td>\n",
       "      <td>0</td>\n",
       "      <td>0</td>\n",
       "      <td>0</td>\n",
       "    </tr>\n",
       "  </tbody>\n",
       "</table>\n",
       "<p>5 rows × 25 columns</p>\n",
       "</div>"
      ],
      "text/plain": [
       "   KNUMBER DATASET COMPLEXITY  PRODUCTCODE_IYE_x  PRODUCTCODE_IYN_x  \\\n",
       "0  K033484   train          H                  0                  0   \n",
       "1  K043617   train          L                  0                  0   \n",
       "2  K053310   train          H                  0                  0   \n",
       "3  K053527   train          H                  0                  0   \n",
       "4  K060387   train          H                  0                  0   \n",
       "\n",
       "   PRODUCTCODE_JJX_x  PRODUCTCODE_LYZ_x  PRODUCTCODE_NBW_x  \\\n",
       "0                  0                  0                  0   \n",
       "1                  0                  0                  0   \n",
       "2                  0                  0                  0   \n",
       "3                  0                  0                  0   \n",
       "4                  0                  0                  0   \n",
       "\n",
       "   CLASSADVISECOMM_AN_x  CLASSADVISECOMM_HE_x          ...           \\\n",
       "0                     0                     0          ...            \n",
       "1                     0                     0          ...            \n",
       "2                     0                     0          ...            \n",
       "3                     0                     0          ...            \n",
       "4                     0                     0          ...            \n",
       "\n",
       "   PRODUCTCODE_IYN_y  PRODUCTCODE_JJX_y  PRODUCTCODE_LYZ_y  PRODUCTCODE_NBW_y  \\\n",
       "0                  0                  0                  0                  0   \n",
       "1                  0                  0                  0                  0   \n",
       "2                  0                  0                  0                  0   \n",
       "3                  0                  0                  0                  0   \n",
       "4                  0                  0                  0                  0   \n",
       "\n",
       "   CLASSADVISECOMM_AN_y  CLASSADVISECOMM_HE_y  CLASSADVISECOMM_IM_y  \\\n",
       "0                     0                     0                     0   \n",
       "1                     0                     0                     0   \n",
       "2                     0                     0                     0   \n",
       "3                     0                     0                     0   \n",
       "4                     0                     0                     0   \n",
       "\n",
       "   CLASSADVISECOMM_MI_y  CLASSADVISECOMM_RA_y  CLASSADVISECOMM_TX_y  \n",
       "0                     0                     0                     0  \n",
       "1                     0                     1                     0  \n",
       "2                     0                     0                     0  \n",
       "3                     0                     0                     0  \n",
       "4                     0                     0                     0  \n",
       "\n",
       "[5 rows x 25 columns]"
      ]
     },
     "execution_count": 61,
     "metadata": {},
     "output_type": "execute_result"
    }
   ],
   "source": [
    "x_train.head()"
   ]
  },
  {
   "cell_type": "code",
   "execution_count": 21,
   "metadata": {},
   "outputs": [
    {
     "data": {
      "text/plain": [
       "array(['H', 'L', 'H', ..., 'L', 'L', 'L'], dtype=object)"
      ]
     },
     "execution_count": 21,
     "metadata": {},
     "output_type": "execute_result"
    }
   ],
   "source": [
    "y_train"
   ]
  },
  {
   "cell_type": "code",
   "execution_count": 16,
   "metadata": {},
   "outputs": [
    {
     "name": "stdout",
     "output_type": "stream",
     "text": [
      "<class 'pandas.core.frame.DataFrame'>\n",
      "RangeIndex: 24926 entries, 0 to 24925\n",
      "Data columns (total 4 columns):\n",
      "KNUMBER         24926 non-null object\n",
      "DECISIONDATE    24926 non-null object\n",
      "DECISIONYEAR    24926 non-null int64\n",
      "DATASET         24926 non-null object\n",
      "dtypes: int64(1), object(3)\n",
      "memory usage: 779.0+ KB\n"
     ]
    }
   ],
   "source": [
    "train_knumber.info()"
   ]
  },
  {
   "cell_type": "code",
   "execution_count": null,
   "metadata": {},
   "outputs": [],
   "source": []
  }
 ],
 "metadata": {
  "kernelspec": {
   "display_name": "Python 3",
   "language": "python",
   "name": "python3"
  },
  "language_info": {
   "codemirror_mode": {
    "name": "ipython",
    "version": 3
   },
   "file_extension": ".py",
   "mimetype": "text/x-python",
   "name": "python",
   "nbconvert_exporter": "python",
   "pygments_lexer": "ipython3",
   "version": "3.6.4"
  },
  "toc": {
   "base_numbering": 1,
   "nav_menu": {},
   "number_sections": true,
   "sideBar": true,
   "skip_h1_title": false,
   "title_cell": "Table of Contents",
   "title_sidebar": "Contents",
   "toc_cell": true,
   "toc_position": {},
   "toc_section_display": true,
   "toc_window_display": true
  },
  "varInspector": {
   "cols": {
    "lenName": 16,
    "lenType": 16,
    "lenVar": 40
   },
   "kernels_config": {
    "python": {
     "delete_cmd_postfix": "",
     "delete_cmd_prefix": "del ",
     "library": "var_list.py",
     "varRefreshCmd": "print(var_dic_list())"
    },
    "r": {
     "delete_cmd_postfix": ") ",
     "delete_cmd_prefix": "rm(",
     "library": "var_list.r",
     "varRefreshCmd": "cat(var_dic_list()) "
    }
   },
   "types_to_exclude": [
    "module",
    "function",
    "builtin_function_or_method",
    "instance",
    "_Feature"
   ],
   "window_display": false
  }
 },
 "nbformat": 4,
 "nbformat_minor": 2
}
